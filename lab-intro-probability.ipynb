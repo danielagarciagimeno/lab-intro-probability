{
 "cells": [
  {
   "cell_type": "markdown",
   "metadata": {},
   "source": [
    "# Lab | Intro to Probability"
   ]
  },
  {
   "cell_type": "markdown",
   "metadata": {},
   "source": [
    "**Objective**\n",
    "\n",
    "Welcome to this Intro to Probability lab, where we explore decision-making scenarios through the lens of probability and strategic analysis. In the business world, making informed decisions is crucial, especially when faced with uncertainties. This lab focuses on scenarios where probabilistic outcomes play a significant role in shaping strategies and outcomes. Students will engage in exercises that require assessing and choosing optimal paths based on data-driven insights. The goal is to enhance your skills by applying probability concepts to solve real-world problems."
   ]
  },
  {
   "cell_type": "markdown",
   "metadata": {},
   "source": [
    "**Challenge 1**"
   ]
  },
  {
   "cell_type": "markdown",
   "metadata": {},
   "source": [
    "#### Ironhack Airlines \n",
    "\n",
    "Often Airlines sell more tickets than they have seats available, this is called overbooking. Consider the following:\n",
    "- A plane has 450 seats. \n",
    "- Based on historical data we conclude that each individual passenger has a 3% chance of missing it's flight. \n",
    "\n",
    "If the Ironhack Airlines routinely sells 460 tickets, what is the chance that they have a seats for all passenger?"
   ]
  },
  {
   "cell_type": "code",
   "execution_count": 2,
   "metadata": {},
   "outputs": [
    {
     "name": "stdout",
     "output_type": "stream",
     "text": [
      "The probability that at least 10 passengers don't show up is: 0.8845\n"
     ]
    }
   ],
   "source": [
    "#code here\n",
    "\n",
    "from scipy.stats import binom\n",
    "\n",
    "# n: total number of tickets sold\n",
    "n = 460\n",
    "# p: probability of a no-show for each passenger\n",
    "p = 0.03\n",
    "\n",
    "# Compute the probability of at least 10 passengers not showing up\n",
    "probability_at_least_10_no_shows = binom.sf(9, n, p) # sf is the survival function, gives P(X > 9)\n",
    "\n",
    "print(f\"The probability that at least 10 passengers don't show up is: {probability_at_least_10_no_shows:.4f}\")\n"
   ]
  },
  {
   "cell_type": "markdown",
   "metadata": {},
   "source": [
    "**Challenge 2**"
   ]
  },
  {
   "cell_type": "markdown",
   "metadata": {},
   "source": [
    "#### Ironhack Call Center "
   ]
  },
  {
   "cell_type": "markdown",
   "metadata": {},
   "source": [
    "Suppose a customer service representative at a call center is handling customer complaints. Consider the following:\n",
    "- The probability of successfully resolving a customer complaint on the first attempt is 0.3. \n",
    "\n",
    "\n",
    "What is the probability that the representative needs to make at least three attempts before successfully resolving a customer complaint?"
   ]
  },
  {
   "cell_type": "code",
   "execution_count": 4,
   "metadata": {},
   "outputs": [
    {
     "name": "stdout",
     "output_type": "stream",
     "text": [
      "The probability of needing at least three attempts is: 0.4900\n"
     ]
    }
   ],
   "source": [
    "#code here\n",
    "from scipy.stats import geom\n",
    "\n",
    "# Probability of success on a single attempt\n",
    "p = 0.3\n",
    "\n",
    "# Calculate the probability of needing at least three attempts\n",
    "# This is equivalent to 1 - P(X <= 2), where X is the attempt on which the first success occurs\n",
    "probability_at_least_three_attempts = 1 - geom.cdf(2, p)\n",
    "\n",
    "print(f\"The probability of needing at least three attempts is: {probability_at_least_three_attempts:.4f}\")"
   ]
  },
  {
   "cell_type": "markdown",
   "metadata": {},
   "source": [
    "**Challenge 3**"
   ]
  },
  {
   "cell_type": "markdown",
   "metadata": {},
   "source": [
    "#### Ironhack Website"
   ]
  },
  {
   "cell_type": "markdown",
   "metadata": {},
   "source": [
    "Consider a scenario related to Ironhack website traffic. Where:\n",
    "- our website takes on average 500 visits per hour.\n",
    "- the website's server is designed to handle up to 550 vists per hour.\n",
    "\n",
    "\n",
    "What is the probability of the website server being overwhelmed?"
   ]
  },
  {
   "cell_type": "code",
   "execution_count": 6,
   "metadata": {},
   "outputs": [
    {
     "name": "stdout",
     "output_type": "stream",
     "text": [
      "The probability of the website server being overwhelmed is: 0.0129\n"
     ]
    }
   ],
   "source": [
    "#code here\n",
    "from scipy.stats import poisson\n",
    "\n",
    "# Average rate (λ) of visits per hour\n",
    "lambda_ = 500\n",
    "\n",
    "# Calculate the probability of more than 550 visits\n",
    "probability_overwhelmed = 1 - poisson.cdf(550, lambda_)\n",
    "\n",
    "print(f\"The probability of the website server being overwhelmed is: {probability_overwhelmed:.4f}\")"
   ]
  },
  {
   "cell_type": "markdown",
   "metadata": {},
   "source": [
    "What is the probability of being overwhelmed at some point during a day? (consider 24hours)"
   ]
  },
  {
   "cell_type": "code",
   "execution_count": 16,
   "metadata": {},
   "outputs": [
    {
     "name": "stdout",
     "output_type": "stream",
     "text": [
      "The probability of the website server being overwhelmed at least once in 24 hours is: 0.2677\n"
     ]
    }
   ],
   "source": [
    "#code here\n",
    "\n",
    "from scipy.stats import poisson\n",
    "\n",
    "# Average rate (λ) of visits per hour\n",
    "lambda_ = 500\n",
    "\n",
    "# Probability of being overwhelmed in one hour\n",
    "probability_overwhelmed_hourly = 1 - poisson.cdf(550, lambda_)\n",
    "\n",
    "# Probability of being overwhelmed at least once in 24 hours\n",
    "probability_overwhelmed_daily = 1 - (1 - probability_overwhelmed_hourly) ** 24\n",
    "\n",
    "print(f\"The probability of the website server being overwhelmed at least once in 24 hours is: {probability_overwhelmed_daily:.4f}\")"
   ]
  },
  {
   "cell_type": "markdown",
   "metadata": {},
   "source": [
    "**Challenge 4**"
   ]
  },
  {
   "cell_type": "markdown",
   "metadata": {},
   "source": [
    "#### Ironhack Helpdesk"
   ]
  },
  {
   "cell_type": "markdown",
   "metadata": {},
   "source": [
    "Consider a scenario related to the time between arrivals of customers at a service desk.\n",
    "\n",
    "On average, a customers arrives every 10minutes.\n",
    "\n",
    "What is the probability that the next customer will arrive within the next 5 minutes?"
   ]
  },
  {
   "cell_type": "code",
   "execution_count": 18,
   "metadata": {},
   "outputs": [
    {
     "name": "stdout",
     "output_type": "stream",
     "text": [
      "The probability that the next customer will arrive within the next 5 minutes is: 0.3935\n"
     ]
    }
   ],
   "source": [
    "import math\n",
    "\n",
    "# lambda: rate of arrivals per minute\n",
    "lambda_rate = 1 / 10\n",
    "\n",
    "# t: time in minutes (within which we're calculating the probability of arrival)\n",
    "t = 5\n",
    "\n",
    "# Calculate the probability using the exponential distribution CDF formula\n",
    "probability_within_5_minutes = 1 - math.exp(-lambda_rate * t)\n",
    "\n",
    "print(f\"The probability that the next customer will arrive within the next 5 minutes is: {probability_within_5_minutes:.4f}\")"
   ]
  },
  {
   "cell_type": "markdown",
   "metadata": {},
   "source": [
    "If there is no customer for 15minutes, employees can that a 5minutes break.\n",
    "\n",
    "What is the probability an employee taking a break?"
   ]
  },
  {
   "cell_type": "code",
   "execution_count": 20,
   "metadata": {},
   "outputs": [
    {
     "name": "stdout",
     "output_type": "stream",
     "text": [
      "The probability an employee can take a break, with no customers arriving for 15 minutes, is: 0.2231\n"
     ]
    }
   ],
   "source": [
    "import math\n",
    "\n",
    "# lambda: rate of arrivals per minute\n",
    "lambda_rate = 1 / 10\n",
    "\n",
    "# t: time in minutes (no customer arrival period)\n",
    "t = 15\n",
    "\n",
    "# Calculate the probability using the formula for no arrivals\n",
    "probability_no_arrival_15_minutes = math.exp(-lambda_rate * t)\n",
    "\n",
    "print(f\"The probability an employee can take a break, with no customers arriving for 15 minutes, is: {probability_no_arrival_15_minutes:.4f}\")"
   ]
  },
  {
   "cell_type": "markdown",
   "metadata": {},
   "source": [
    "**Challenge 5**"
   ]
  },
  {
   "cell_type": "markdown",
   "metadata": {},
   "source": [
    "The weights of a certain species of birds follow a normal distribution with a mean weight of 150 grams and a standard deviation of 10 grams. \n",
    "\n",
    "- If we randomly select a bird, what is the probability that its weight is between 140 and 160 grams?"
   ]
  },
  {
   "cell_type": "code",
   "execution_count": 22,
   "metadata": {},
   "outputs": [
    {
     "name": "stdout",
     "output_type": "stream",
     "text": [
      "The probability that a randomly selected bird weighs between 140 and 160 grams is: 0.6827\n"
     ]
    }
   ],
   "source": [
    "#code here\n",
    "from scipy.stats import norm\n",
    "\n",
    "# Mean and standard deviation\n",
    "mu = 150\n",
    "sigma = 10\n",
    "\n",
    "# Calculate the probability\n",
    "probability = norm.cdf(160, mu, sigma) - norm.cdf(140, mu, sigma)\n",
    "\n",
    "print(f\"The probability that a randomly selected bird weighs between 140 and 160 grams is: {probability:.4f}\")"
   ]
  },
  {
   "cell_type": "markdown",
   "metadata": {},
   "source": [
    "**Challenge 6**"
   ]
  },
  {
   "cell_type": "markdown",
   "metadata": {},
   "source": [
    "If the lifetime (in hours) of a certain electronic component follows an exponential distribution with a mean lifetime of 50 hours, what is the probability that the component fails within the first 30 hours?"
   ]
  },
  {
   "cell_type": "code",
   "execution_count": 24,
   "metadata": {},
   "outputs": [
    {
     "name": "stdout",
     "output_type": "stream",
     "text": [
      "The probability that the component fails within the first 30 hours is: 0.4512\n"
     ]
    }
   ],
   "source": [
    "#code here\n",
    "import math\n",
    "\n",
    "# Mean lifetime\n",
    "mean_lifetime = 50\n",
    "\n",
    "# Rate (lambda)\n",
    "lambda_rate = 1 / mean_lifetime\n",
    "\n",
    "# Desired time period\n",
    "t = 30\n",
    "\n",
    "# Probability calculation for P(T <= 30)\n",
    "probability_failure_within_30_hours = 1 - math.exp(-lambda_rate * t)\n",
    "\n",
    "print(f\"The probability that the component fails within the first 30 hours is: {probability_failure_within_30_hours:.4f}\")"
   ]
  },
  {
   "cell_type": "code",
   "execution_count": null,
   "metadata": {},
   "outputs": [],
   "source": []
  }
 ],
 "metadata": {
  "kernelspec": {
   "display_name": "Python 3 (ipykernel)",
   "language": "python",
   "name": "python3"
  },
  "language_info": {
   "codemirror_mode": {
    "name": "ipython",
    "version": 3
   },
   "file_extension": ".py",
   "mimetype": "text/x-python",
   "name": "python",
   "nbconvert_exporter": "python",
   "pygments_lexer": "ipython3",
   "version": "3.12.4"
  }
 },
 "nbformat": 4,
 "nbformat_minor": 4
}
